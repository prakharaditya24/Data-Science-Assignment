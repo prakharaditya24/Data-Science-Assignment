{
 "cells": [
  {
   "cell_type": "markdown",
   "id": "68bf5ddc-3b8b-4980-873c-2e49a75e67b2",
   "metadata": {},
   "source": [
    "# Data Science Tools and Ecosystem"
   ]
  },
  {
   "cell_type": "markdown",
   "id": "fd7d0cb2-2cd9-4a6b-9430-6a934f7fee2a",
   "metadata": {},
   "source": [
    "In this notebook, Data Science Tools and Ecosystem are summarized."
   ]
  },
  {
   "cell_type": "markdown",
   "id": "ade1bdbd-e2a7-4aba-b057-06a8e34cefe0",
   "metadata": {},
   "source": [
    "**Objectives:**\n",
    "* List popular languages for Data Science.\n",
    "* List commonly used libraries in Data Science.\n",
    "* List Data Science Tools\n",
    "* Learn the to use jupyter notebook\n",
    "* Do some basic artihmetics in python"
   ]
  },
  {
   "cell_type": "markdown",
   "id": "92a33875-bd0c-40fa-9dab-6536ae9890cb",
   "metadata": {},
   "source": [
    "Some of the popular languages that Data Scientists use are:\n",
    "1. Python\n",
    "2. R\n",
    "3. SQL\n",
    "4. Java\n",
    "5. C"
   ]
  },
  {
   "cell_type": "markdown",
   "id": "52445942-d0e3-446b-ada9-7659498379ad",
   "metadata": {},
   "source": [
    "Some of the commonly used libraries used by Data Scientists include:\n",
    "1. Pandas\n",
    "2. Numpy\n",
    "3. Scikit-learn\n",
    "4. Matplotlib\n",
    "5. Seaborn"
   ]
  },
  {
   "cell_type": "markdown",
   "id": "42ac82cb-4501-4ead-ab82-c904be8b63f0",
   "metadata": {},
   "source": [
    "|Data Science Tools|\n",
    "|--|\n",
    "|MySQL|\n",
    "|Hadoop File System|\n",
    "|Jupyter Notebook|\n",
    "|GitHub|\n"
   ]
  },
  {
   "cell_type": "markdown",
   "id": "27f25731-4d47-4c59-a167-d087e57289bf",
   "metadata": {},
   "source": [
    "### Below are a few examples of evaluating arithmetic expressions in Python"
   ]
  },
  {
   "cell_type": "code",
   "execution_count": 2,
   "id": "79f2b68a-de43-4979-8ec7-2ac28df57f6a",
   "metadata": {
    "tags": []
   },
   "outputs": [
    {
     "data": {
      "text/plain": [
       "17"
      ]
     },
     "execution_count": 2,
     "metadata": {},
     "output_type": "execute_result"
    }
   ],
   "source": [
    "# This a simple arithmetic expression to mutiply then add integers\n",
    "(3*4)+5"
   ]
  },
  {
   "cell_type": "code",
   "execution_count": 3,
   "id": "34d51eaf-95c8-44e4-b23e-beb2954474b3",
   "metadata": {
    "tags": []
   },
   "outputs": [
    {
     "data": {
      "text/plain": [
       "3.3333333333333335"
      ]
     },
     "execution_count": 3,
     "metadata": {},
     "output_type": "execute_result"
    }
   ],
   "source": [
    "#  This will convert 200 minutes to hours by diving by 60\n",
    "minutes= 200\n",
    "hour = minutes/60\n",
    "hour"
   ]
  },
  {
   "cell_type": "markdown",
   "id": "0cf93154-e83a-404e-860e-00ab431a9a14",
   "metadata": {},
   "source": [
    "## Author\n",
    "Prakhar Aditya"
   ]
  },
  {
   "cell_type": "code",
   "execution_count": null,
   "id": "63cd6f48-af09-49ba-8f77-b916bc356633",
   "metadata": {},
   "outputs": [],
   "source": []
  }
 ],
 "metadata": {
  "kernelspec": {
   "display_name": "Python",
   "language": "python",
   "name": "conda-env-python-py"
  },
  "language_info": {
   "codemirror_mode": {
    "name": "ipython",
    "version": 3
   },
   "file_extension": ".py",
   "mimetype": "text/x-python",
   "name": "python",
   "nbconvert_exporter": "python",
   "pygments_lexer": "ipython3",
   "version": "3.7.12"
  }
 },
 "nbformat": 4,
 "nbformat_minor": 5
}
